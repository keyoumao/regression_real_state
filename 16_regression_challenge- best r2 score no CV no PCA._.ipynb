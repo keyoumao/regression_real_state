{
 "cells": [
  {
   "cell_type": "markdown",
   "id": "2bb2befe",
   "metadata": {},
   "source": [
    "We are an agency helping our customers purchase XoX (a made-up product) from various makers. Price is one of the most important things we care about. We need to estimate the price of a XoX before we recommend it to our customers. However, the estimations vary significantly with our employees' experience.\n",
    "\n",
    "We would like you to build a machine learning model to accurately predict the price for a future purchase and provide insights to help us explain the predicted price to our customers. Please note that neither our customers nor us have any knowledge about machine learning. A sample of our sales record is available in ../data/sales.csv.\n",
    "\n",
    "Preprocess, clean, analyze and visualized the provided data. A few sentences or plots describing your approach will suffice. Any thing you would like us to know about the price?\n",
    "Build a machine learning model to help us determine the price for a purchase. Discuss why you choose the approaches, what alternatives you consider, and any concerns you have. How is the performance of your model?\n",
    "Help us understand how the price is predicted (again, a few sentences will suffice)."
   ]
  },
  {
   "cell_type": "code",
   "execution_count": 1,
   "id": "711567a2",
   "metadata": {},
   "outputs": [],
   "source": [
    "import pandas as pd\n",
    "import numpy as np\n",
    "import pandas as pd\n",
    "import numpy as np\n",
    "from sklearn.base import TransformerMixin, BaseEstimator\n",
    "from sklearn.compose import ColumnTransformer\n",
    "from sklearn.pipeline import Pipeline\n",
    "from sklearn.impute import KNNImputer\n",
    "from sklearn.preprocessing import StandardScaler, OneHotEncoder\n",
    "from sklearn.linear_model import LinearRegression\n",
    "from sklearn.model_selection import train_test_split\n",
    "from sklearn.ensemble import RandomForestRegressor\n",
    "from sklearn.ensemble import GradientBoostingRegressor\n",
    "from xgboost.sklearn import XGBRegressor\n",
    "from sklearn.metrics import mean_absolute_error, mean_squared_error, r2_score\n",
    "import math\n",
    "from sklearn.linear_model import Lasso\n",
    "from sklearn.preprocessing import PolynomialFeatures\n",
    "from sklearn.preprocessing import MinMaxScaler\n",
    "%matplotlib inline \n",
    "import warnings\n",
    "warnings.filterwarnings('ignore')\n",
    "\n",
    "df = pd.read_csv('./sales.csv')"
   ]
  },
  {
   "cell_type": "markdown",
   "id": "f0cd986d",
   "metadata": {},
   "source": [
    "# 1. Data Overview"
   ]
  },
  {
   "cell_type": "code",
   "execution_count": 2,
   "id": "eea43288",
   "metadata": {},
   "outputs": [
    {
     "data": {
      "text/html": [
       "<div>\n",
       "<style scoped>\n",
       "    .dataframe tbody tr th:only-of-type {\n",
       "        vertical-align: middle;\n",
       "    }\n",
       "\n",
       "    .dataframe tbody tr th {\n",
       "        vertical-align: top;\n",
       "    }\n",
       "\n",
       "    .dataframe thead th {\n",
       "        text-align: right;\n",
       "    }\n",
       "</style>\n",
       "<table border=\"1\" class=\"dataframe\">\n",
       "  <thead>\n",
       "    <tr style=\"text-align: right;\">\n",
       "      <th></th>\n",
       "      <th>cost</th>\n",
       "      <th>price</th>\n",
       "      <th>weight</th>\n",
       "      <th>purchase_date</th>\n",
       "      <th>product_type</th>\n",
       "      <th>product_level</th>\n",
       "      <th>maker</th>\n",
       "      <th>ingredient</th>\n",
       "      <th>height</th>\n",
       "      <th>width</th>\n",
       "      <th>depth</th>\n",
       "    </tr>\n",
       "  </thead>\n",
       "  <tbody>\n",
       "    <tr>\n",
       "      <th>0</th>\n",
       "      <td>$333k</td>\n",
       "      <td>$300,492</td>\n",
       "      <td>3 Ton 90 Kg</td>\n",
       "      <td>Dec 19 2008</td>\n",
       "      <td>Q,B</td>\n",
       "      <td>advanced</td>\n",
       "      <td>M14122</td>\n",
       "      <td>IN732052,IN732053</td>\n",
       "      <td>2.76 meters</td>\n",
       "      <td>97 cm</td>\n",
       "      <td>26 cm</td>\n",
       "    </tr>\n",
       "    <tr>\n",
       "      <th>1</th>\n",
       "      <td>NaN</td>\n",
       "      <td>$430,570</td>\n",
       "      <td>3 Ton 30 Kg</td>\n",
       "      <td>Sep 10 1997</td>\n",
       "      <td>J,D</td>\n",
       "      <td>basic</td>\n",
       "      <td>NaN</td>\n",
       "      <td>IN732054,IN732055,IN732056,IN732057,IN732058</td>\n",
       "      <td>2.67 meters</td>\n",
       "      <td>98 cm</td>\n",
       "      <td>26 cm</td>\n",
       "    </tr>\n",
       "    <tr>\n",
       "      <th>2</th>\n",
       "      <td>$270k</td>\n",
       "      <td>$213,070</td>\n",
       "      <td>3 Ton 40 Kg</td>\n",
       "      <td>Sep 05 2001</td>\n",
       "      <td>J,D</td>\n",
       "      <td>basic</td>\n",
       "      <td>NaN</td>\n",
       "      <td>IN732054,IN732059,IN732060</td>\n",
       "      <td>3.0 meters</td>\n",
       "      <td>93 cm</td>\n",
       "      <td>24 cm</td>\n",
       "    </tr>\n",
       "    <tr>\n",
       "      <th>3</th>\n",
       "      <td>NaN</td>\n",
       "      <td>$229,174</td>\n",
       "      <td>3 Ton 50 Kg</td>\n",
       "      <td>Dec 23 2016</td>\n",
       "      <td>U</td>\n",
       "      <td>advanced</td>\n",
       "      <td>M14123</td>\n",
       "      <td>IN732061,IN732062,IN732063</td>\n",
       "      <td>2.5 meters</td>\n",
       "      <td>102 cm</td>\n",
       "      <td>27 cm</td>\n",
       "    </tr>\n",
       "    <tr>\n",
       "      <th>4</th>\n",
       "      <td>$97k</td>\n",
       "      <td>$122,659</td>\n",
       "      <td>2 Ton 970 Kg</td>\n",
       "      <td>Jan 12 2000</td>\n",
       "      <td>D,R</td>\n",
       "      <td>advanced</td>\n",
       "      <td>NaN</td>\n",
       "      <td>IN732064,IN732065,IN732066</td>\n",
       "      <td>2.47 meters</td>\n",
       "      <td>101 cm</td>\n",
       "      <td>26 cm</td>\n",
       "    </tr>\n",
       "  </tbody>\n",
       "</table>\n",
       "</div>"
      ],
      "text/plain": [
       "    cost     price        weight purchase_date product_type product_level  \\\n",
       "0  $333k  $300,492   3 Ton 90 Kg   Dec 19 2008          Q,B      advanced   \n",
       "1    NaN  $430,570   3 Ton 30 Kg   Sep 10 1997          J,D         basic   \n",
       "2  $270k  $213,070   3 Ton 40 Kg   Sep 05 2001          J,D         basic   \n",
       "3    NaN  $229,174   3 Ton 50 Kg   Dec 23 2016            U      advanced   \n",
       "4   $97k  $122,659  2 Ton 970 Kg   Jan 12 2000          D,R      advanced   \n",
       "\n",
       "    maker                                    ingredient       height   width  \\\n",
       "0  M14122                             IN732052,IN732053  2.76 meters   97 cm   \n",
       "1     NaN  IN732054,IN732055,IN732056,IN732057,IN732058  2.67 meters   98 cm   \n",
       "2     NaN                    IN732054,IN732059,IN732060   3.0 meters   93 cm   \n",
       "3  M14123                    IN732061,IN732062,IN732063   2.5 meters  102 cm   \n",
       "4     NaN                    IN732064,IN732065,IN732066  2.47 meters  101 cm   \n",
       "\n",
       "   depth  \n",
       "0  26 cm  \n",
       "1  26 cm  \n",
       "2  24 cm  \n",
       "3  27 cm  \n",
       "4  26 cm  "
      ]
     },
     "execution_count": 2,
     "metadata": {},
     "output_type": "execute_result"
    }
   ],
   "source": [
    "df.dropna(subset=['price'], inplace=True)\n",
    "df.head()"
   ]
  },
  {
   "cell_type": "code",
   "execution_count": 3,
   "id": "5de53480",
   "metadata": {},
   "outputs": [
    {
     "name": "stdout",
     "output_type": "stream",
     "text": [
      "<class 'pandas.core.frame.DataFrame'>\n",
      "Int64Index: 3186 entries, 0 to 3196\n",
      "Data columns (total 11 columns):\n",
      " #   Column         Non-Null Count  Dtype \n",
      "---  ------         --------------  ----- \n",
      " 0   cost           2211 non-null   object\n",
      " 1   price          3186 non-null   object\n",
      " 2   weight         3183 non-null   object\n",
      " 3   purchase_date  3186 non-null   object\n",
      " 4   product_type   3186 non-null   object\n",
      " 5   product_level  3186 non-null   object\n",
      " 6   maker          2365 non-null   object\n",
      " 7   ingredient     2932 non-null   object\n",
      " 8   height         3186 non-null   object\n",
      " 9   width          3183 non-null   object\n",
      " 10  depth          3183 non-null   object\n",
      "dtypes: object(11)\n",
      "memory usage: 298.7+ KB\n"
     ]
    }
   ],
   "source": [
    "df.info()"
   ]
  },
  {
   "cell_type": "code",
   "execution_count": 4,
   "id": "4865cfe1",
   "metadata": {},
   "outputs": [
    {
     "name": "stdout",
     "output_type": "stream",
     "text": [
      "Mssing value of maker:  821\n",
      "Qty of Known makers:  879\n"
     ]
    },
    {
     "data": {
      "text/plain": [
       "M14196           17\n",
       "M14346           16\n",
       "M14170           15\n",
       "M14163           15\n",
       "M14164           13\n",
       "                 ..\n",
       "M14392            1\n",
       "M14213            1\n",
       "M14725            1\n",
       "M14394            1\n",
       "M14883,M15011     1\n",
       "Name: maker, Length: 879, dtype: int64"
      ]
     },
     "execution_count": 4,
     "metadata": {},
     "output_type": "execute_result"
    }
   ],
   "source": [
    "print(\"Mssing value of maker: \", df.maker.isnull().sum())\n",
    "print(\"Qty of Known makers: \", df.maker.nunique())\n",
    "df.maker.value_counts()"
   ]
  },
  {
   "cell_type": "markdown",
   "id": "231433d4",
   "metadata": {},
   "source": [
    "With a total of 3186 rows of data, maker has 2365 value not null, with 879 unique values, and 821 missing values and none is dominant.  I would consider maker not a good variable to predict price. "
   ]
  },
  {
   "cell_type": "code",
   "execution_count": 5,
   "id": "9e136eaa",
   "metadata": {},
   "outputs": [
    {
     "data": {
      "text/plain": [
       "169019.44821347806"
      ]
     },
     "execution_count": 5,
     "metadata": {},
     "output_type": "execute_result"
    }
   ],
   "source": [
    "df['year'] = pd.to_datetime(df.purchase_date).dt.year\n",
    "tmp = pd.DataFrame()\n",
    "tmp['price'] = df['price'].map(lambda x: x if type(x) is float else float(x.strip('$').replace(',', '')))\n",
    "tmp['cost'] = df['cost'].map(lambda x: x if type(x) is float else 1000*float(x.strip('$').strip('k')))\n",
    "tmp['weight'] = df['weight'].map(lambda x: x if type(x) is float else float(x.split(' Ton')[0]) * 1000)\n",
    "tmp['height'] = df['height'].map(lambda x: x if type(x) is float else float(x.strip('meters').strip()) * 100)\n",
    "tmp['width'] = df['width'].map(lambda x: x if type(x) is float else float(x.strip(' cm')))\n",
    "tmp['depth'] = df['depth'].map(lambda x: x if type(x) is float else float(x.strip(' cm')))\n",
    "tmp['year'] = df['year']\n",
    "\n",
    "tmp\n",
    "tmp.cost.median(skipna=True)\n",
    "tmp.cost.mean(skipna=True)"
   ]
  },
  {
   "cell_type": "code",
   "execution_count": 6,
   "id": "b3167153",
   "metadata": {},
   "outputs": [
    {
     "name": "stdout",
     "output_type": "stream",
     "text": [
      "           price      cost    weight    height     width     depth      year\n",
      "price   1.000000  0.627414  0.146433  0.076193  0.081460  0.084387  0.126201\n",
      "cost    0.627414  1.000000  0.201146  0.074708  0.121367  0.119569  0.107065\n",
      "weight  0.146433  0.201146  1.000000  0.128382  0.254737  0.246442  0.058428\n",
      "height  0.076193  0.074708  0.128382  1.000000 -0.851370 -0.837142 -0.026806\n",
      "width   0.081460  0.121367  0.254737 -0.851370  1.000000  0.979355  0.043274\n",
      "depth   0.084387  0.119569  0.246442 -0.837142  0.979355  1.000000  0.040989\n",
      "year    0.126201  0.107065  0.058428 -0.026806  0.043274  0.040989  1.000000\n"
     ]
    }
   ],
   "source": [
    "correlation_matrix = tmp.corr()\n",
    "print(correlation_matrix)"
   ]
  },
  {
   "cell_type": "code",
   "execution_count": null,
   "id": "d61788e4",
   "metadata": {},
   "outputs": [],
   "source": []
  },
  {
   "cell_type": "code",
   "execution_count": 89,
   "id": "8e187862",
   "metadata": {},
   "outputs": [],
   "source": [
    "import math\n",
    "\n",
    "class DataTransformer(BaseEstimator, TransformerMixin):\n",
    "    def __init__(self):\n",
    "        pass\n",
    "\n",
    "    def fit(self, X, y=None):\n",
    "        df = pd.DataFrame()\n",
    "        df['cost'] = X['cost'].map(self.cost2num)\n",
    "        df['weight'] = X['weight'].map(self.weight2num)\n",
    "        df['height'] = X['height'].map(self.height2num)\n",
    "        df['width'] = X['width'].map(self.width2num)        \n",
    "        df['depth'] = X['depth'].map(self.depth2num)\n",
    "        df['volume'] = 100 * df['height'] * df['width'] * df['depth']\n",
    "        df['year'] = X['year']\n",
    "#        self.mean = df.mean()\n",
    "        self.median = df.median(skipna=True)\n",
    "    \n",
    "    def transform(self, X):\n",
    "        # Extract and convert numerical features\n",
    "        df = pd.DataFrame()\n",
    "        df['cost'] = X['cost'].map(self.cost2num)\n",
    "        df['weight'] = X['weight'].map(self.weight2num)\n",
    "        df['height'] = X['height'].map(self.height2num)\n",
    "        df['width'] = X['width'].map(self.width2num)        \n",
    "        df['depth'] = X['depth'].map(self.depth2num)\n",
    "        df['volume'] = 100 * df['height'] * df['width'] * df['depth']\n",
    "        df['year'] = X['year']\n",
    "#        return df.fillna(self.mean)\n",
    "        return df.fillna(self.median)\n",
    "\n",
    "    def fit_transform(self, X, y=None):\n",
    "        self.fit(X)\n",
    "        return self.transform(X)\n",
    "\n",
    "    def weight2num(self, x):\n",
    "        if pd.notnull(x):\n",
    "            if 'Ton' in x:\n",
    "                try:\n",
    "                    return float(x.split(' Ton')[0]) * 1000\n",
    "                except ValueError:\n",
    "                    return np.nan  # Handle the case where the conversion to float fails\n",
    "            else:\n",
    "                try:\n",
    "                    return float(x.strip('Kg'))\n",
    "                except ValueError:\n",
    "                    return np.nan  # Handle the case where the conversion to float fails\n",
    "        return x\n",
    "    \n",
    "    def height2num(self, x):\n",
    "        if type(x) == str:\n",
    "            x = x.strip('meters').strip()\n",
    "            return float(x) * 100\n",
    "        else:\n",
    "            return x        \n",
    "    \n",
    "    def width2num(self, x):\n",
    "        if type(x) == str:\n",
    "            x = x.strip('cm').strip()\n",
    "            return float(x)\n",
    "        else:\n",
    "            return x   \n",
    "\n",
    "    def depth2num(self, x):\n",
    "        if type(x) == str:\n",
    "            x = x.strip('cm').strip()\n",
    "            return float(x)\n",
    "        else:\n",
    "            return x  \n",
    "    def cost2num(self, x):\n",
    "        if type(x) == str:\n",
    "            x = x.strip('$').strip('k')\n",
    "            return float(x)*1000\n",
    "        else:\n",
    "            return x\n"
   ]
  },
  {
   "cell_type": "code",
   "execution_count": null,
   "id": "e2f79004",
   "metadata": {},
   "outputs": [],
   "source": []
  },
  {
   "cell_type": "code",
   "execution_count": 90,
   "id": "feb479fd",
   "metadata": {},
   "outputs": [],
   "source": [
    "def price2num(x):\n",
    "    if type(x) == str: \n",
    "        x = x.strip('$').replace(',', '')\n",
    "    return float(x)\n",
    "\n",
    "df['price']=df['price'].map(price2num)"
   ]
  },
  {
   "cell_type": "code",
   "execution_count": 91,
   "id": "af3de6f7",
   "metadata": {},
   "outputs": [
    {
     "data": {
      "text/html": [
       "<div>\n",
       "<style scoped>\n",
       "    .dataframe tbody tr th:only-of-type {\n",
       "        vertical-align: middle;\n",
       "    }\n",
       "\n",
       "    .dataframe tbody tr th {\n",
       "        vertical-align: top;\n",
       "    }\n",
       "\n",
       "    .dataframe thead th {\n",
       "        text-align: right;\n",
       "    }\n",
       "</style>\n",
       "<table border=\"1\" class=\"dataframe\">\n",
       "  <thead>\n",
       "    <tr style=\"text-align: right;\">\n",
       "      <th></th>\n",
       "      <th>cost</th>\n",
       "      <th>weight</th>\n",
       "      <th>height</th>\n",
       "      <th>width</th>\n",
       "      <th>depth</th>\n",
       "      <th>volume</th>\n",
       "      <th>year</th>\n",
       "    </tr>\n",
       "  </thead>\n",
       "  <tbody>\n",
       "    <tr>\n",
       "      <th>0</th>\n",
       "      <td>333000.0</td>\n",
       "      <td>3000.0</td>\n",
       "      <td>276.0</td>\n",
       "      <td>97.0</td>\n",
       "      <td>26.0</td>\n",
       "      <td>69607200.0</td>\n",
       "      <td>2008</td>\n",
       "    </tr>\n",
       "    <tr>\n",
       "      <th>1</th>\n",
       "      <td>122000.0</td>\n",
       "      <td>3000.0</td>\n",
       "      <td>267.0</td>\n",
       "      <td>98.0</td>\n",
       "      <td>26.0</td>\n",
       "      <td>68031600.0</td>\n",
       "      <td>1997</td>\n",
       "    </tr>\n",
       "    <tr>\n",
       "      <th>2</th>\n",
       "      <td>270000.0</td>\n",
       "      <td>3000.0</td>\n",
       "      <td>300.0</td>\n",
       "      <td>93.0</td>\n",
       "      <td>24.0</td>\n",
       "      <td>66960000.0</td>\n",
       "      <td>2001</td>\n",
       "    </tr>\n",
       "    <tr>\n",
       "      <th>3</th>\n",
       "      <td>97000.0</td>\n",
       "      <td>2000.0</td>\n",
       "      <td>247.0</td>\n",
       "      <td>101.0</td>\n",
       "      <td>26.0</td>\n",
       "      <td>64862200.0</td>\n",
       "      <td>2000</td>\n",
       "    </tr>\n",
       "    <tr>\n",
       "      <th>4</th>\n",
       "      <td>59000.0</td>\n",
       "      <td>2000.0</td>\n",
       "      <td>271.0</td>\n",
       "      <td>96.0</td>\n",
       "      <td>25.0</td>\n",
       "      <td>65040000.0</td>\n",
       "      <td>2011</td>\n",
       "    </tr>\n",
       "    <tr>\n",
       "      <th>...</th>\n",
       "      <td>...</td>\n",
       "      <td>...</td>\n",
       "      <td>...</td>\n",
       "      <td>...</td>\n",
       "      <td>...</td>\n",
       "      <td>...</td>\n",
       "      <td>...</td>\n",
       "    </tr>\n",
       "    <tr>\n",
       "      <th>2752</th>\n",
       "      <td>254000.0</td>\n",
       "      <td>3000.0</td>\n",
       "      <td>202.0</td>\n",
       "      <td>113.0</td>\n",
       "      <td>30.0</td>\n",
       "      <td>68478000.0</td>\n",
       "      <td>2012</td>\n",
       "    </tr>\n",
       "    <tr>\n",
       "      <th>2753</th>\n",
       "      <td>91000.0</td>\n",
       "      <td>2000.0</td>\n",
       "      <td>252.0</td>\n",
       "      <td>99.0</td>\n",
       "      <td>26.0</td>\n",
       "      <td>64864800.0</td>\n",
       "      <td>2002</td>\n",
       "    </tr>\n",
       "    <tr>\n",
       "      <th>2754</th>\n",
       "      <td>122000.0</td>\n",
       "      <td>2000.0</td>\n",
       "      <td>215.0</td>\n",
       "      <td>106.0</td>\n",
       "      <td>28.0</td>\n",
       "      <td>63812000.0</td>\n",
       "      <td>2007</td>\n",
       "    </tr>\n",
       "    <tr>\n",
       "      <th>2755</th>\n",
       "      <td>44000.0</td>\n",
       "      <td>2000.0</td>\n",
       "      <td>252.0</td>\n",
       "      <td>100.0</td>\n",
       "      <td>26.0</td>\n",
       "      <td>65520000.0</td>\n",
       "      <td>2002</td>\n",
       "    </tr>\n",
       "    <tr>\n",
       "      <th>2756</th>\n",
       "      <td>128000.0</td>\n",
       "      <td>2000.0</td>\n",
       "      <td>296.0</td>\n",
       "      <td>92.0</td>\n",
       "      <td>24.0</td>\n",
       "      <td>65356800.0</td>\n",
       "      <td>2003</td>\n",
       "    </tr>\n",
       "  </tbody>\n",
       "</table>\n",
       "<p>2757 rows × 7 columns</p>\n",
       "</div>"
      ],
      "text/plain": [
       "          cost  weight  height  width  depth      volume  year\n",
       "0     333000.0  3000.0   276.0   97.0   26.0  69607200.0  2008\n",
       "1     122000.0  3000.0   267.0   98.0   26.0  68031600.0  1997\n",
       "2     270000.0  3000.0   300.0   93.0   24.0  66960000.0  2001\n",
       "3      97000.0  2000.0   247.0  101.0   26.0  64862200.0  2000\n",
       "4      59000.0  2000.0   271.0   96.0   25.0  65040000.0  2011\n",
       "...        ...     ...     ...    ...    ...         ...   ...\n",
       "2752  254000.0  3000.0   202.0  113.0   30.0  68478000.0  2012\n",
       "2753   91000.0  2000.0   252.0   99.0   26.0  64864800.0  2002\n",
       "2754  122000.0  2000.0   215.0  106.0   28.0  63812000.0  2007\n",
       "2755   44000.0  2000.0   252.0  100.0   26.0  65520000.0  2002\n",
       "2756  128000.0  2000.0   296.0   92.0   24.0  65356800.0  2003\n",
       "\n",
       "[2757 rows x 7 columns]"
      ]
     },
     "execution_count": 91,
     "metadata": {},
     "output_type": "execute_result"
    }
   ],
   "source": [
    "train_raw = df[df.year < 2015].reset_index(drop=True)\n",
    "test_raw = df[df.year >= 2015].reset_index(drop=True)\n",
    "\n",
    "numeric_features_lr = ['cost','weight', 'height', 'width', 'depth', 'year']\n",
    "categorical_features_lr = ['product_level', 'product_type', 'maker', 'ingredient']\n",
    "target=['price']\n",
    "\n",
    "X_train = train_raw[numeric_features_lr]\n",
    "y_train = train_raw[target]\n",
    "\n",
    "X_test = test_raw[numeric_features_lr]\n",
    "y_test = test_raw[target]\n",
    "\n",
    "\n",
    "ctf=DataTransformer()\n",
    "test=ctf.fit_transform(X_train)\n",
    "test"
   ]
  },
  {
   "cell_type": "code",
   "execution_count": 92,
   "id": "58d9c3a5",
   "metadata": {},
   "outputs": [],
   "source": [
    "steps = [('ctf', DataTransformer()),\n",
    "         ('poly', PolynomialFeatures(degree=10)),\n",
    "         ('rescale', MinMaxScaler()),\n",
    "         ('lasso', Lasso(alpha=100))]\n",
    "\n",
    "model_lr = Pipeline(steps)\n",
    "model_lr = model_lr.fit(X_train, y_train)\n"
   ]
  },
  {
   "cell_type": "code",
   "execution_count": 93,
   "id": "45337c9f",
   "metadata": {},
   "outputs": [
    {
     "name": "stdout",
     "output_type": "stream",
     "text": [
      "train MAE: 1.06e+05\n",
      "train MSE: 2.62e+10\n",
      "train R2: 0.385\n",
      "test MAE: 1.40e+05\n",
      "test MSE: 5.29e+10\n",
      "test R2: 0.387\n"
     ]
    }
   ],
   "source": [
    "y_train_pred = model_lr.predict(X_train)\n",
    "print('train MAE: {0:.2e}'.format(mean_absolute_error(y_train, y_train_pred)))\n",
    "print('train MSE: {0:.2e}'.format(mean_squared_error(y_train, y_train_pred)))\n",
    "print('train R2: {0:.3f}'.format(r2_score(y_train, y_train_pred)))\n",
    "\n",
    "y_test_pred = model_lr.predict(X_test)\n",
    "print('test MAE: {0:.2e}'.format(mean_absolute_error(y_test, y_test_pred)))\n",
    "print('test MSE: {0:.2e}'.format(mean_squared_error(y_test, y_test_pred)))\n",
    "print('test R2: {0:.3f}'.format(r2_score(y_test, y_test_pred)))"
   ]
  },
  {
   "cell_type": "code",
   "execution_count": 94,
   "id": "3868f5ca",
   "metadata": {},
   "outputs": [
    {
     "data": {
      "text/plain": [
       "Text(0, 0.5, 'y_train_pred')"
      ]
     },
     "execution_count": 94,
     "metadata": {},
     "output_type": "execute_result"
    },
    {
     "data": {
      "image/png": "[encoded data removed]",
      "text/plain": [
       "<Figure size 640x480 with 1 Axes>"
      ]
     },
     "metadata": {},
     "output_type": "display_data"
    }
   ],
   "source": [
    "import matplotlib.pylab as plt\n",
    "\n",
    "plt.scatter(y_test, model_lr.predict(X_test), alpha = 0.3)\n",
    "plt.xlabel('y_train')\n",
    "plt.ylabel('y_train_pred')"
   ]
  },
  {
   "cell_type": "code",
   "execution_count": 95,
   "id": "9e8917c9",
   "metadata": {},
   "outputs": [
    {
     "data": {
      "text/plain": [
       "xgboost.sklearn.XGBRegressor"
      ]
     },
     "execution_count": 95,
     "metadata": {},
     "output_type": "execute_result"
    }
   ],
   "source": [
    "numeric_features = ['cost', 'weight', 'height', 'width', 'depth', 'year']\n",
    "categorical_features = ['product_type']\n",
    "target=['price']\n",
    "\n",
    "X_train = train_raw[numeric_features + categorical_features ]\n",
    "y_train = train_raw[target]\n",
    "\n",
    "X_test = test_raw[numeric_features + categorical_features]\n",
    "y_test = test_raw[target]\n",
    "XGBRegressor"
   ]
  },
  {
   "cell_type": "code",
   "execution_count": 117,
   "id": "7d0a5d71",
   "metadata": {},
   "outputs": [
    {
     "data": {
      "text/html": [
       "<style>#sk-container-id-37 {color: black;background-color: white;}#sk-container-id-37 pre{padding: 0;}#sk-container-id-37 div.sk-toggleable {background-color: white;}#sk-container-id-37 label.sk-toggleable__label {cursor: pointer;display: block;width: 100%;margin-bottom: 0;padding: 0.3em;box-sizing: border-box;text-align: center;}#sk-container-id-37 label.sk-toggleable__label-arrow:before {content: \"▸\";float: left;margin-right: 0.25em;color: #696969;}#sk-container-id-37 label.sk-toggleable__label-arrow:hover:before {color: black;}#sk-container-id-37 div.sk-estimator:hover label.sk-toggleable__label-arrow:before {color: black;}#sk-container-id-37 div.sk-toggleable__content {max-height: 0;max-width: 0;overflow: hidden;text-align: left;background-color: #f0f8ff;}#sk-container-id-37 div.sk-toggleable__content pre {margin: 0.2em;color: black;border-radius: 0.25em;background-color: #f0f8ff;}#sk-container-id-37 input.sk-toggleable__control:checked~div.sk-toggleable__content {max-height: 200px;max-width: 100%;overflow: auto;}#sk-container-id-37 input.sk-toggleable__control:checked~label.sk-toggleable__label-arrow:before {content: \"▾\";}#sk-container-id-37 div.sk-estimator input.sk-toggleable__control:checked~label.sk-toggleable__label {background-color: #d4ebff;}#sk-container-id-37 div.sk-label input.sk-toggleable__control:checked~label.sk-toggleable__label {background-color: #d4ebff;}#sk-container-id-37 input.sk-hidden--visually {border: 0;clip: rect(1px 1px 1px 1px);clip: rect(1px, 1px, 1px, 1px);height: 1px;margin: -1px;overflow: hidden;padding: 0;position: absolute;width: 1px;}#sk-container-id-37 div.sk-estimator {font-family: monospace;background-color: #f0f8ff;border: 1px dotted black;border-radius: 0.25em;box-sizing: border-box;margin-bottom: 0.5em;}#sk-container-id-37 div.sk-estimator:hover {background-color: #d4ebff;}#sk-container-id-37 div.sk-parallel-item::after {content: \"\";width: 100%;border-bottom: 1px solid gray;flex-grow: 1;}#sk-container-id-37 div.sk-label:hover label.sk-toggleable__label {background-color: #d4ebff;}#sk-container-id-37 div.sk-serial::before {content: \"\";position: absolute;border-left: 1px solid gray;box-sizing: border-box;top: 0;bottom: 0;left: 50%;z-index: 0;}#sk-container-id-37 div.sk-serial {display: flex;flex-direction: column;align-items: center;background-color: white;padding-right: 0.2em;padding-left: 0.2em;position: relative;}#sk-container-id-37 div.sk-item {position: relative;z-index: 1;}#sk-container-id-37 div.sk-parallel {display: flex;align-items: stretch;justify-content: center;background-color: white;position: relative;}#sk-container-id-37 div.sk-item::before, #sk-container-id-37 div.sk-parallel-item::before {content: \"\";position: absolute;border-left: 1px solid gray;box-sizing: border-box;top: 0;bottom: 0;left: 50%;z-index: -1;}#sk-container-id-37 div.sk-parallel-item {display: flex;flex-direction: column;z-index: 1;position: relative;background-color: white;}#sk-container-id-37 div.sk-parallel-item:first-child::after {align-self: flex-end;width: 50%;}#sk-container-id-37 div.sk-parallel-item:last-child::after {align-self: flex-start;width: 50%;}#sk-container-id-37 div.sk-parallel-item:only-child::after {width: 0;}#sk-container-id-37 div.sk-dashed-wrapped {border: 1px dashed gray;margin: 0 0.4em 0.5em 0.4em;box-sizing: border-box;padding-bottom: 0.4em;background-color: white;}#sk-container-id-37 div.sk-label label {font-family: monospace;font-weight: bold;display: inline-block;line-height: 1.2em;}#sk-container-id-37 div.sk-label-container {text-align: center;}#sk-container-id-37 div.sk-container {/* jupyter's `normalize.less` sets `[hidden] { display: none; }` but bootstrap.min.css set `[hidden] { display: none !important; }` so we also need the `!important` here to be able to override the default hidden behavior on the sphinx rendered scikit-learn.org. See: https://github.com/scikit-learn/scikit-learn/issues/21755 */display: inline-block !important;position: relative;}#sk-container-id-37 div.sk-text-repr-fallback {display: none;}</style><div id=\"sk-container-id-37\" class=\"sk-top-container\"><div class=\"sk-text-repr-fallback\"><pre>Pipeline(steps=[(&#x27;preprocessor&#x27;,\n",
       "                 ColumnTransformer(remainder=&#x27;passthrough&#x27;,\n",
       "                                   transformers=[(&#x27;numeric&#x27;, DataTransformer(),\n",
       "                                                  [&#x27;cost&#x27;, &#x27;weight&#x27;, &#x27;height&#x27;,\n",
       "                                                   &#x27;width&#x27;, &#x27;depth&#x27;, &#x27;year&#x27;]),\n",
       "                                                 (&#x27;categorical&#x27;,\n",
       "                                                  OneHotEncoder(handle_unknown=&#x27;ignore&#x27;,\n",
       "                                                                sparse=False),\n",
       "                                                  [&#x27;product_type&#x27;])])),\n",
       "                (&#x27;xgbr&#x27;,\n",
       "                 XGBRegressor(base_score=None, booster=None, callbacks=None,\n",
       "                              colsample_bylevel=None, colsam...\n",
       "                              feature_types=None, gamma=None, grow_policy=None,\n",
       "                              importance_type=None,\n",
       "                              interaction_constraints=None, learning_rate=0.05,\n",
       "                              max_bin=None, max_cat_threshold=None,\n",
       "                              max_cat_to_onehot=None, max_delta_step=None,\n",
       "                              max_depth=3, max_leaves=None, min_child_weight=3,\n",
       "                              missing=nan, monotone_constraints=None,\n",
       "                              multi_strategy=None, n_estimators=100,\n",
       "                              n_jobs=None, num_parallel_tree=None,\n",
       "                              random_state=None, ...))])</pre><b>In a Jupyter environment, please rerun this cell to show the HTML representation or trust the notebook. <br />On GitHub, the HTML representation is unable to render, please try loading this page with nbviewer.org.</b></div><div class=\"sk-container\" hidden><div class=\"sk-item sk-dashed-wrapped\"><div class=\"sk-label-container\"><div class=\"sk-label sk-toggleable\"><input class=\"sk-toggleable__control sk-hidden--visually\" id=\"sk-estimator-id-325\" type=\"checkbox\" ><label for=\"sk-estimator-id-325\" class=\"sk-toggleable__label sk-toggleable__label-arrow\">Pipeline</label><div class=\"sk-toggleable__content\"><pre>Pipeline(steps=[(&#x27;preprocessor&#x27;,\n",
       "                 ColumnTransformer(remainder=&#x27;passthrough&#x27;,\n",
       "                                   transformers=[(&#x27;numeric&#x27;, DataTransformer(),\n",
       "                                                  [&#x27;cost&#x27;, &#x27;weight&#x27;, &#x27;height&#x27;,\n",
       "                                                   &#x27;width&#x27;, &#x27;depth&#x27;, &#x27;year&#x27;]),\n",
       "                                                 (&#x27;categorical&#x27;,\n",
       "                                                  OneHotEncoder(handle_unknown=&#x27;ignore&#x27;,\n",
       "                                                                sparse=False),\n",
       "                                                  [&#x27;product_type&#x27;])])),\n",
       "                (&#x27;xgbr&#x27;,\n",
       "                 XGBRegressor(base_score=None, booster=None, callbacks=None,\n",
       "                              colsample_bylevel=None, colsam...\n",
       "                              feature_types=None, gamma=None, grow_policy=None,\n",
       "                              importance_type=None,\n",
       "                              interaction_constraints=None, learning_rate=0.05,\n",
       "                              max_bin=None, max_cat_threshold=None,\n",
       "                              max_cat_to_onehot=None, max_delta_step=None,\n",
       "                              max_depth=3, max_leaves=None, min_child_weight=3,\n",
       "                              missing=nan, monotone_constraints=None,\n",
       "                              multi_strategy=None, n_estimators=100,\n",
       "                              n_jobs=None, num_parallel_tree=None,\n",
       "                              random_state=None, ...))])</pre></div></div></div><div class=\"sk-serial\"><div class=\"sk-item sk-dashed-wrapped\"><div class=\"sk-label-container\"><div class=\"sk-label sk-toggleable\"><input class=\"sk-toggleable__control sk-hidden--visually\" id=\"sk-estimator-id-326\" type=\"checkbox\" ><label for=\"sk-estimator-id-326\" class=\"sk-toggleable__label sk-toggleable__label-arrow\">preprocessor: ColumnTransformer</label><div class=\"sk-toggleable__content\"><pre>ColumnTransformer(remainder=&#x27;passthrough&#x27;,\n",
       "                  transformers=[(&#x27;numeric&#x27;, DataTransformer(),\n",
       "                                 [&#x27;cost&#x27;, &#x27;weight&#x27;, &#x27;height&#x27;, &#x27;width&#x27;, &#x27;depth&#x27;,\n",
       "                                  &#x27;year&#x27;]),\n",
       "                                (&#x27;categorical&#x27;,\n",
       "                                 OneHotEncoder(handle_unknown=&#x27;ignore&#x27;,\n",
       "                                               sparse=False),\n",
       "                                 [&#x27;product_type&#x27;])])</pre></div></div></div><div class=\"sk-parallel\"><div class=\"sk-parallel-item\"><div class=\"sk-item\"><div class=\"sk-label-container\"><div class=\"sk-label sk-toggleable\"><input class=\"sk-toggleable__control sk-hidden--visually\" id=\"sk-estimator-id-327\" type=\"checkbox\" ><label for=\"sk-estimator-id-327\" class=\"sk-toggleable__label sk-toggleable__label-arrow\">numeric</label><div class=\"sk-toggleable__content\"><pre>[&#x27;cost&#x27;, &#x27;weight&#x27;, &#x27;height&#x27;, &#x27;width&#x27;, &#x27;depth&#x27;, &#x27;year&#x27;]</pre></div></div></div><div class=\"sk-serial\"><div class=\"sk-item\"><div class=\"sk-estimator sk-toggleable\"><input class=\"sk-toggleable__control sk-hidden--visually\" id=\"sk-estimator-id-328\" type=\"checkbox\" ><label for=\"sk-estimator-id-328\" class=\"sk-toggleable__label sk-toggleable__label-arrow\">DataTransformer</label><div class=\"sk-toggleable__content\"><pre>DataTransformer()</pre></div></div></div></div></div></div><div class=\"sk-parallel-item\"><div class=\"sk-item\"><div class=\"sk-label-container\"><div class=\"sk-label sk-toggleable\"><input class=\"sk-toggleable__control sk-hidden--visually\" id=\"sk-estimator-id-329\" type=\"checkbox\" ><label for=\"sk-estimator-id-329\" class=\"sk-toggleable__label sk-toggleable__label-arrow\">categorical</label><div class=\"sk-toggleable__content\"><pre>[&#x27;product_type&#x27;]</pre></div></div></div><div class=\"sk-serial\"><div class=\"sk-item\"><div class=\"sk-estimator sk-toggleable\"><input class=\"sk-toggleable__control sk-hidden--visually\" id=\"sk-estimator-id-330\" type=\"checkbox\" ><label for=\"sk-estimator-id-330\" class=\"sk-toggleable__label sk-toggleable__label-arrow\">OneHotEncoder</label><div class=\"sk-toggleable__content\"><pre>OneHotEncoder(handle_unknown=&#x27;ignore&#x27;, sparse=False)</pre></div></div></div></div></div></div><div class=\"sk-parallel-item\"><div class=\"sk-item\"><div class=\"sk-label-container\"><div class=\"sk-label sk-toggleable\"><input class=\"sk-toggleable__control sk-hidden--visually\" id=\"sk-estimator-id-331\" type=\"checkbox\" ><label for=\"sk-estimator-id-331\" class=\"sk-toggleable__label sk-toggleable__label-arrow\">remainder</label><div class=\"sk-toggleable__content\"><pre>[]</pre></div></div></div><div class=\"sk-serial\"><div class=\"sk-item\"><div class=\"sk-estimator sk-toggleable\"><input class=\"sk-toggleable__control sk-hidden--visually\" id=\"sk-estimator-id-332\" type=\"checkbox\" ><label for=\"sk-estimator-id-332\" class=\"sk-toggleable__label sk-toggleable__label-arrow\">passthrough</label><div class=\"sk-toggleable__content\"><pre>passthrough</pre></div></div></div></div></div></div></div></div><div class=\"sk-item\"><div class=\"sk-estimator sk-toggleable\"><input class=\"sk-toggleable__control sk-hidden--visually\" id=\"sk-estimator-id-333\" type=\"checkbox\" ><label for=\"sk-estimator-id-333\" class=\"sk-toggleable__label sk-toggleable__label-arrow\">XGBRegressor</label><div class=\"sk-toggleable__content\"><pre>XGBRegressor(base_score=None, booster=None, callbacks=None,\n",
       "             colsample_bylevel=None, colsample_bynode=None,\n",
       "             colsample_bytree=None, device=None, early_stopping_rounds=None,\n",
       "             enable_categorical=False, eval_metric=None, feature_types=None,\n",
       "             gamma=None, grow_policy=None, importance_type=None,\n",
       "             interaction_constraints=None, learning_rate=0.05, max_bin=None,\n",
       "             max_cat_threshold=None, max_cat_to_onehot=None,\n",
       "             max_delta_step=None, max_depth=3, max_leaves=None,\n",
       "             min_child_weight=3, missing=nan, monotone_constraints=None,\n",
       "             multi_strategy=None, n_estimators=100, n_jobs=None,\n",
       "             num_parallel_tree=None, random_state=None, ...)</pre></div></div></div></div></div></div></div>"
      ],
      "text/plain": [
       "Pipeline(steps=[('preprocessor',\n",
       "                 ColumnTransformer(remainder='passthrough',\n",
       "                                   transformers=[('numeric', DataTransformer(),\n",
       "                                                  ['cost', 'weight', 'height',\n",
       "                                                   'width', 'depth', 'year']),\n",
       "                                                 ('categorical',\n",
       "                                                  OneHotEncoder(handle_unknown='ignore',\n",
       "                                                                sparse=False),\n",
       "                                                  ['product_type'])])),\n",
       "                ('xgbr',\n",
       "                 XGBRegressor(base_score=None, booster=None, callbacks=None,\n",
       "                              colsample_bylevel=None, colsam...\n",
       "                              feature_types=None, gamma=None, grow_policy=None,\n",
       "                              importance_type=None,\n",
       "                              interaction_constraints=None, learning_rate=0.05,\n",
       "                              max_bin=None, max_cat_threshold=None,\n",
       "                              max_cat_to_onehot=None, max_delta_step=None,\n",
       "                              max_depth=3, max_leaves=None, min_child_weight=3,\n",
       "                              missing=nan, monotone_constraints=None,\n",
       "                              multi_strategy=None, n_estimators=100,\n",
       "                              n_jobs=None, num_parallel_tree=None,\n",
       "                              random_state=None, ...))])"
      ]
     },
     "execution_count": 117,
     "metadata": {},
     "output_type": "execute_result"
    }
   ],
   "source": [
    "steps=[\n",
    "    ('preprocessor', ColumnTransformer(\n",
    "        transformers=[\n",
    "            ('numeric', DataTransformer(), numeric_features),  # Include 'cost' in the numeric features\n",
    "            ('categorical', OneHotEncoder(handle_unknown='ignore', sparse=False), categorical_features)  # Produce dense matrix\n",
    "        ],\n",
    "        remainder='passthrough'\n",
    "    )),\n",
    "    ('xgbr', XGBRegressor(max_depth=3,learning_rate=0.05,n_estimators=100, min_child_weight = 3, reg_lambda=1))\n",
    "]\n",
    "\n",
    "model = Pipeline(steps)\n",
    "\n",
    "model.fit(X_train, y_train)"
   ]
  },
  {
   "cell_type": "code",
   "execution_count": 118,
   "id": "f4bd35d0",
   "metadata": {},
   "outputs": [
    {
     "name": "stdout",
     "output_type": "stream",
     "text": [
      "train MAE: 9.54e+04\n",
      "train MSE: 2.04e+10\n",
      "train R2: 0.522\n",
      "test MAE: 1.22e+05\n",
      "test MSE: 4.64e+10\n",
      "test R2: 0.461\n"
     ]
    }
   ],
   "source": [
    "y_train_pred = model.predict(X_train)\n",
    "print('train MAE: {0:.2e}'.format(mean_absolute_error(y_train, y_train_pred)))\n",
    "print('train MSE: {0:.2e}'.format(mean_squared_error(y_train, y_train_pred)))\n",
    "print('train R2: {0:.3f}'.format(r2_score(y_train, y_train_pred)))\n",
    "\n",
    "y_test_pred = model.predict(X_test)\n",
    "print('test MAE: {0:.2e}'.format(mean_absolute_error(y_test, y_test_pred)))\n",
    "print('test MSE: {0:.2e}'.format(mean_squared_error(y_test, y_test_pred)))\n",
    "print('test R2: {0:.3f}'.format(r2_score(y_test, y_test_pred)))"
   ]
  },
  {
   "cell_type": "code",
   "execution_count": 112,
   "id": "de597486",
   "metadata": {},
   "outputs": [
    {
     "data": {
      "text/plain": [
       "Text(0, 0.5, 'y_train_pred')"
      ]
     },
     "execution_count": 112,
     "metadata": {},
     "output_type": "execute_result"
    },
    {
     "data": {
      "image/png": "[encoded data removed]",
      "text/plain": [
       "<Figure size 640x480 with 1 Axes>"
      ]
     },
     "metadata": {},
     "output_type": "display_data"
    }
   ],
   "source": [
    "import matplotlib.pylab as plt\n",
    "\n",
    "plt.scatter(y_test, model.predict(X_test), alpha = 0.3)\n",
    "plt.xlabel('y_train')\n",
    "plt.ylabel('y_train_pred')"
   ]
  },
  {
   "cell_type": "code",
   "execution_count": null,
   "id": "4b9b9f50",
   "metadata": {},
   "outputs": [],
   "source": []
  },
  {
   "cell_type": "code",
   "execution_count": null,
   "id": "49f0eabd",
   "metadata": {},
   "outputs": [],
   "source": []
  }
 ],
 "metadata": {
  "kernelspec": {
   "display_name": "Python 3 (ipykernel)",
   "language": "python",
   "name": "python3"
  },
  "language_info": {
   "codemirror_mode": {
    "name": "ipython",
    "version": 3
   },
   "file_extension": ".py",
   "mimetype": "text/x-python",
   "name": "python",
   "nbconvert_exporter": "python",
   "pygments_lexer": "ipython3",
   "version": "3.10.9"
  },
  "toc": {
   "base_numbering": 1,
   "nav_menu": {},
   "number_sections": true,
   "sideBar": true,
   "skip_h1_title": false,
   "title_cell": "Table of Contents",
   "title_sidebar": "Contents",
   "toc_cell": false,
   "toc_position": {},
   "toc_section_display": true,
   "toc_window_display": false
  }
 },
 "nbformat": 4,
 "nbformat_minor": 5
}
